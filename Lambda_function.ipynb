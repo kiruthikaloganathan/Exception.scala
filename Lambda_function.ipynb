{
  "nbformat": 4,
  "nbformat_minor": 0,
  "metadata": {
    "colab": {
      "provenance": [],
      "authorship_tag": "ABX9TyP36SVw5avl7WYEOEWzkGYB",
      "include_colab_link": true
    },
    "kernelspec": {
      "name": "python3",
      "display_name": "Python 3"
    },
    "language_info": {
      "name": "python"
    }
  },
  "cells": [
    {
      "cell_type": "markdown",
      "metadata": {
        "id": "view-in-github",
        "colab_type": "text"
      },
      "source": [
        "<a href=\"https://colab.research.google.com/github/kiruthikaloganathan/Exception.scala/blob/master/Lambda_function.ipynb\" target=\"_parent\"><img src=\"https://colab.research.google.com/assets/colab-badge.svg\" alt=\"Open In Colab\"/></a>"
      ]
    },
    {
      "cell_type": "code",
      "execution_count": 1,
      "metadata": {
        "colab": {
          "base_uri": "https://localhost:8080/"
        },
        "id": "Sfiic4wL1jHb",
        "outputId": "19da6eab-d8eb-4e38-f77c-88ce2342697b"
      },
      "outputs": [
        {
          "output_type": "stream",
          "name": "stdout",
          "text": [
            "hello\n"
          ]
        }
      ],
      "source": [
        "print(\"hello\")"
      ]
    },
    {
      "cell_type": "code",
      "source": [
        "#assigment-write a program to reverse a list and print it in upper case\n",
        "\n",
        "num_list = \"Python\"\n",
        "#print (num_list.upper())\n",
        "num_list1 = list(map(lambda x : x.upper(), num_list[::-1]))\n",
        "print (num_list1)"
      ],
      "metadata": {
        "colab": {
          "base_uri": "https://localhost:8080/"
        },
        "id": "kZudFUKOA4Vx",
        "outputId": "c19d3716-70c4-464d-ed39-87d0a4593377"
      },
      "execution_count": 1,
      "outputs": [
        {
          "output_type": "stream",
          "name": "stdout",
          "text": [
            "PYTHON\n",
            "['N', 'O', 'H', 'T', 'Y', 'P']\n"
          ]
        }
      ]
    },
    {
      "cell_type": "code",
      "source": [
        "num_list = \"python\"\n",
        "num_slice = num_list[::-1]\n",
        "num_list1 = list(map(lambda x : x.upper(), num_slice))\n",
        "num_list1"
      ],
      "metadata": {
        "colab": {
          "base_uri": "https://localhost:8080/"
        },
        "id": "IXYr4_Fjlcus",
        "outputId": "f6653d6e-204a-4c15-c9d8-6a8e94313ff4"
      },
      "execution_count": 4,
      "outputs": [
        {
          "output_type": "execute_result",
          "data": {
            "text/plain": [
              "['N', 'O', 'H', 'T', 'Y', 'P']"
            ]
          },
          "metadata": {},
          "execution_count": 4
        }
      ]
    },
    {
      "cell_type": "markdown",
      "source": [],
      "metadata": {
        "id": "xRuIWbQ2rJbj"
      }
    },
    {
      "cell_type": "code",
      "source": [
        "#simple adding\n",
        "add = lambda a,d :(a+d) #a and d are arguments here\n",
        "print(add(2,3))\n",
        "\n",
        "#passing the value in lambda function\n",
        "add1 = (lambda a,b : a+b)(2,4)\n",
        "\n",
        "#in lambda no need to assign a variable we can call directly(imediately invoked function)\n",
        "(lambda a,b : a*b)(5,6)\n",
        "\n",
        "#passing default value\n",
        "add = lambda x,y = 100 : x+y\n",
        "print(add(2))\n",
        "\n",
        "add = lambda x : x +100\n",
        "print(add(50))"
      ],
      "metadata": {
        "colab": {
          "base_uri": "https://localhost:8080/"
        },
        "id": "LKpA5uIXpD0_",
        "outputId": "04f9443d-2072-4d9b-f6a9-1ef1190da018"
      },
      "execution_count": 17,
      "outputs": [
        {
          "output_type": "stream",
          "name": "stdout",
          "text": [
            "5\n",
            "102\n",
            "150\n"
          ]
        }
      ]
    },
    {
      "cell_type": "code",
      "source": [
        "#keyword arguments\n",
        "product = lambda x,y,z : x*y*z\n",
        "print(product(x=2, y=3, z=5))\n",
        "\n",
        "#default argument value\n",
        "add = lambda x,y = 12, z =4 : x+y+z\n",
        "print(add(3))\n",
        "\n",
        "#as many as arguments\n",
        "addition = lambda *args : sum(args)\n",
        "print(addition(3,5,7,7))\n",
        "\n",
        "#higher order function take one or more function as a arguments and return one or more function\n",
        "higher_ord_fun = lambda x, fun : x + fun(x)\n",
        "higher_ord_fun(20, lambda x : x*x)\n",
        "\n",
        "#if condition in lambda\n",
        "(lambda x : (x%2 and 'even' or 'odd'))(150)\n",
        "\n",
        "#check string is substring of the given string\n",
        "sub_string = lambda string :string in \"welcome to python\"\n",
        "print(sub_string(\"java\"))\n",
        "print(sub_string(\"python\"))\n",
        "\n",
        "#filter a number using specific condition\n",
        "num = [10,29,34,56,34]\n",
        "greater = list(filter(lambda x : x >30, num))\n",
        "print(greater)\n",
        "\n",
        "#filter a number divisable by 4\n",
        "num = [4,8,3,16,67,7]\n",
        "division = list(filter(lambda x : (x%4 == 0), num))\n",
        "print(division)\n",
        "\n",
        "#map function along with lambda\n",
        "#map function accepts two arguments and it take that function and apply every element of the list and return a modified list\n",
        "list1 = [10, 40, 56, 46, 73]\n",
        "double_number = list(map(lambda x : x*2, list1))\n",
        "print(double_number)"
      ],
      "metadata": {
        "colab": {
          "base_uri": "https://localhost:8080/"
        },
        "id": "LqcwE9-SKljh",
        "outputId": "f51056ac-531a-4b69-bbb3-f1952be1d8c8"
      },
      "execution_count": 4,
      "outputs": [
        {
          "output_type": "stream",
          "name": "stdout",
          "text": [
            "30\n",
            "19\n",
            "22\n",
            "False\n",
            "True\n",
            "[34, 56, 34]\n",
            "[4, 8, 16]\n",
            "[20, 80, 112, 92, 146]\n"
          ]
        }
      ]
    },
    {
      "cell_type": "code",
      "source": [
        "#reduce function, it applies rolling calclation all applies in the result it used to calculate and multiply all the numbers togeather\n",
        "#part of func tool moodulr\n",
        "#so we are importing funtool\n",
        "from functools import reduce\n",
        "list4 = [2,3,4,5,6]\n",
        "sum = reduce(lambda x, y : (x+y),list4)\n",
        "print(sum)\n",
        "\n",
        "#user defined funtion\n",
        "#calculate the qudratic function\n",
        "def quadratic(a,b,c):\n",
        "  return lambda x : a*b**2 + b*x + c\n",
        "f = quadratic(2,3,4)\n",
        "f(1)"
      ],
      "metadata": {
        "colab": {
          "base_uri": "https://localhost:8080/"
        },
        "id": "6s32lwgmYMfv",
        "outputId": "033738b5-4f2f-46a2-fdf7-69776661d475"
      },
      "execution_count": 51,
      "outputs": [
        {
          "output_type": "stream",
          "name": "stdout",
          "text": [
            "20\n"
          ]
        },
        {
          "output_type": "execute_result",
          "data": {
            "text/plain": [
              "25"
            ]
          },
          "metadata": {},
          "execution_count": 51
        }
      ]
    },
    {
      "cell_type": "code",
      "source": [],
      "metadata": {
        "id": "DCN9F0YzXp8K"
      },
      "execution_count": null,
      "outputs": []
    },
    {
      "cell_type": "code",
      "source": [
        "# using inbuild function pow\n",
        "print(\"hello\")\n",
        "list3 = [13,65,87,98]\n",
        "cube = list(map(lambda x : pow(x,3), list3))\n",
        "print(cube)"
      ],
      "metadata": {
        "colab": {
          "base_uri": "https://localhost:8080/"
        },
        "id": "05K7WLPyXf7A",
        "outputId": "61e1776f-260e-48fc-9d44-28aa3f007de8"
      },
      "execution_count": 5,
      "outputs": [
        {
          "output_type": "stream",
          "name": "stdout",
          "text": [
            "hello\n",
            "[2197, 274625, 658503, 941192]\n"
          ]
        }
      ]
    }
  ]
}